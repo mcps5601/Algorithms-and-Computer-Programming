{
 "cells": [
  {
   "cell_type": "markdown",
   "metadata": {},
   "source": [
    "# Exceptions and Assertions"
   ]
  },
  {
   "cell_type": "markdown",
   "metadata": {},
   "source": [
    "1. Try to answer the following questions by just reading the code. \n",
    "\n",
    "What error (if any) is raised when the following code snippets are attempted?\n",
    "\n",
    "'1' / '2'\n",
    "--TypeError\n",
    "\n",
    "'1' / 2\n",
    "--TypeError\n",
    "\n",
    "mylist = [10, 20, 30]\n",
    "mylist.index(11)\n",
    "-- ValueError\n",
    "\n",
    "int('1') / 2.0\n",
    "--No Error is raised\n",
    "\n",
    "A = 2\n",
    "3 * a\n",
    "NameError\n"
   ]
  },
  {
   "cell_type": "markdown",
   "metadata": {},
   "source": [
    "2. Below are some short Python programs. For each program, answer the associated question.\n",
    " \n",
    "Try to answer the questions without running the code. These questions will ask you to write what the code prints out. If an exception is raised that is not handled by the code write 'error' (no quotes), in addition to any other text that is output.\n",
    " \n",
    "The function in the following questions takes a list of integers numbers and a position index, and divides each entry in the list of numbers by the value at entry index.\n",
    " \n",
    "Write what it prints out, separating what appears on a new line by a comma and a space."
   ]
  },
  {
   "cell_type": "code",
   "execution_count": 1,
   "metadata": {},
   "outputs": [],
   "source": [
    "#2-1\n",
    "def fancy_divide(numbers,index):\n",
    "    try:\n",
    "        denom = numbers[index]\n",
    "        for i in range(len(numbers)):\n",
    "            numbers[i] /= denom\n",
    "    except IndexError:\n",
    "        print(\"-1\")\n",
    "    else:\n",
    "        print(\"1\")\n",
    "    finally:\n",
    "        print(\"0\")"
   ]
  },
  {
   "cell_type": "markdown",
   "metadata": {},
   "source": [
    "What does fancy_divide([0, 2, 4], 1) print out?\n",
    " \n",
    "1 0\n",
    " \n",
    "What does fancy_divide([0, 2, 4], 4) print out?\n",
    " \n",
    "-1 0\n",
    " \n",
    "What does fancy_divide([0, 2, 4], 0) print out?\n",
    " \n",
    "0"
   ]
  },
  {
   "cell_type": "code",
   "execution_count": null,
   "metadata": {},
   "outputs": [],
   "source": [
    "#2-2\n",
    "def fancy_divide(numbers, index):\n",
    "    try:\n",
    "        denom = numbers[index]\n",
    "        for i in range(len(numbers)):\n",
    "            numbers[i] /= denom\n",
    "    except IndexError:\n",
    "        fancy_divide(numbers, len(numbers) - 1)\n",
    "    except ZeroDivisionError:\n",
    "        print(\"-2\")\n",
    "    else:\n",
    "        print(\"1\")\n",
    "    finally:\n",
    "        print(\"0\")"
   ]
  },
  {
   "cell_type": "markdown",
   "metadata": {},
   "source": [
    "What does fancy_divide([0, 2, 4], 1) print out?\n",
    " \n",
    "1 0\n",
    "  \n",
    " \n",
    "What does fancy_divide([0, 2, 4], 4) print out?\n",
    " \n",
    "1 0 0\n",
    "  \n",
    " \n",
    "What does fancy_divide([0, 2, 4], 0) print out?\n",
    " \n",
    "-2 0"
   ]
  },
  {
   "cell_type": "code",
   "execution_count": null,
   "metadata": {},
   "outputs": [],
   "source": [
    "#2-3\n",
    "def fancy_divide(numbers, index):\n",
    "    try:\n",
    "        try:\n",
    "            denom = numbers[index]\n",
    "            for i in range(len(numbers)):\n",
    "                numbers[i] /= denom\n",
    "        except IndexError:\n",
    "            fancy_divide(numbers, len(numbers) - 1)\n",
    "        else:\n",
    "            print(\"1\")\n",
    "        finally:\n",
    "            print(\"0\")\n",
    "    except ZeroDivisionError:\n",
    "        print(\"-2\")"
   ]
  },
  {
   "cell_type": "markdown",
   "metadata": {},
   "source": [
    "What does fancy_divide([0, 2, 4], 1) print out?\n",
    "1 0\n",
    " \n",
    "What does fancy_divide([0, 2, 4], 4) print out?\n",
    " \n",
    "1 0 0\n",
    " \n",
    "What does fancy_divide([0, 2, 4], 0) print out?\n",
    " \n",
    "0 -2"
   ]
  },
  {
   "cell_type": "code",
   "execution_count": null,
   "metadata": {},
   "outputs": [],
   "source": [
    "#2-4\n",
    "def fancy_divide(list_of_numbers, index):\n",
    "    try:\n",
    "        try:\n",
    "            raise Exception(\"0\")\n",
    "        finally:\n",
    "            denom = list_of_numbers[index]\n",
    "            for i in range(len(list_of_numbers)):\n",
    "                list_of_numbers[i] /= denom\n",
    "    except Exception as ex:\n",
    "        print(ex)"
   ]
  },
  {
   "cell_type": "markdown",
   "metadata": {},
   "source": [
    "Does this code print 0 when you call fancy_divide([0, 2, 4], 0)?\n",
    "Ans: NO"
   ]
  },
  {
   "cell_type": "code",
   "execution_count": null,
   "metadata": {},
   "outputs": [],
   "source": [
    "#2-5\n",
    "def fancy_divide(list_of_numbers, index):\n",
    "    try:\n",
    "        try:\n",
    "            denom = list_of_numbers[index]\n",
    "            for i in range(len(list_of_numbers)):\n",
    "                list_of_numbers[i] /= denom\n",
    "        finally:\n",
    "            raise Exception(\"0\")\n",
    "    except Exception as ex:\n",
    "        print(ex)"
   ]
  },
  {
   "cell_type": "markdown",
   "metadata": {},
   "source": [
    "Does this print 0 when you call fancy_divide([0, 2, 4], 0)?\n",
    "ANS: YES"
   ]
  },
  {
   "cell_type": "markdown",
   "metadata": {},
   "source": [
    "3. Consider the function normalize that takes as input a list of positive numbers numbers and returns a list of numbers that are a fraction of the maximum element in the list. Try to answer the questions without running the code.\n",
    "\n",
    "\n",
    "def normalize(numbers):\n",
    "    max_number = max(numbers)\n",
    "    for i in range(len(numbers)):\n",
    "        numbers[i] /= float(max_number)\n",
    "    return numbers\n",
    "\n",
    "\n",
    "The code below tries to call normalize with one particular input. Answer the next 5 questions based on the following code.\n",
    "\n",
    "\n",
    "try:\n",
    "    normalize([0, 0, 0])\n",
    "except ZeroDivisionError:\n",
    "    print('Invalid maximum element')"
   ]
  },
  {
   "cell_type": "markdown",
   "metadata": {},
   "source": [
    "3-1\n",
    "Does the try block throw (also known as raise) an exception?\n",
    "ANS: YES"
   ]
  },
  {
   "cell_type": "markdown",
   "metadata": {},
   "source": [
    "3-2\n",
    "What is the name of the exception the code is trying to catch?\n",
    "ANS: ZeroDivisionError"
   ]
  },
  {
   "cell_type": "markdown",
   "metadata": {},
   "source": [
    "3-3\n",
    "What is the output?\n",
    "ANS: Invalid maximum element"
   ]
  },
  {
   "cell_type": "markdown",
   "metadata": {},
   "source": [
    "3-4\n",
    "Since we are dividing by the maximum element in a list of positive numbers, we know that normalize will return a value between 0 and 1. What type of condition is this?\n",
    "ANS: post condition"
   ]
  },
  {
   "cell_type": "markdown",
   "metadata": {},
   "source": [
    "3-5\n",
    "We also know the result is not meaningful when the maximum element is 0, so we want to ensure that the numbers in the list do not violate this. What type of condition is this?\n",
    "ANS: pre condition"
   ]
  },
  {
   "cell_type": "markdown",
   "metadata": {},
   "source": [
    "4. Now assume the definition of the function normalize is rewritten as follows:\n",
    "\n",
    "\n",
    "def normalize(numbers):\n",
    "    max_number = max(numbers)\n",
    "    assert(max_number != 0), \"Cannot divide by 0\"\n",
    "    for i in range(len(numbers)):\n",
    "        numbers[i] /= float(max_number)\n",
    "        assert(0.0 <= numbers[i] <= 1.0), \"output not between 0 and 1\"\n",
    "    return numbers\n",
    "    \n",
    "\n",
    "Answer the next 3 questions based on this code."
   ]
  },
  {
   "cell_type": "markdown",
   "metadata": {},
   "source": [
    "4-1\n",
    "Which condition does the line \"assert(max_number != 0)\" correspond to?\n",
    "post condition"
   ]
  },
  {
   "cell_type": "markdown",
   "metadata": {},
   "source": [
    "4-2\n",
    "Which condition does the line \"assert(0.0 <= numbers[i] <= 1.0)\" correspond to?\n",
    "pre condition"
   ]
  },
  {
   "cell_type": "markdown",
   "metadata": {},
   "source": [
    "4-3\n",
    "What does the function call normalize([0, 0, 0]) print out?\n",
    "AssertionError: Cannot divide by 0"
   ]
  }
 ],
 "metadata": {
  "kernelspec": {
   "display_name": "Python 3",
   "language": "python",
   "name": "python3"
  },
  "language_info": {
   "codemirror_mode": {
    "name": "ipython",
    "version": 3
   },
   "file_extension": ".py",
   "mimetype": "text/x-python",
   "name": "python",
   "nbconvert_exporter": "python",
   "pygments_lexer": "ipython3",
   "version": "3.6.3"
  }
 },
 "nbformat": 4,
 "nbformat_minor": 2
}
